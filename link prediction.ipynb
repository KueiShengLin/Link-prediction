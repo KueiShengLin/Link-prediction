{
 "cells": [
  {
   "cell_type": "code",
   "execution_count": 138,
   "metadata": {},
   "outputs": [
    {
     "name": "stdout",
     "output_type": "stream",
     "text": [
      "<class 'pandas.core.frame.DataFrame'>\n",
      "RangeIndex: 154836 entries, 0 to 154835\n",
      "Data columns (total 3 columns):\n",
      "year         154836 non-null int64\n",
      "source id    154836 non-null int64\n",
      "target id    154836 non-null int64\n",
      "dtypes: int64(3)\n",
      "memory usage: 3.5 MB\n"
     ]
    }
   ],
   "source": [
    "import networkx as nx\n",
    "import pandas as pd\n",
    "import matplotlib.pyplot as plt\n",
    "import math\n",
    "import random\n",
    "from sklearn.utils import shuffle\n",
    "from sklearn.svm import SVC\n",
    "\n",
    "period1 = pd.read_csv('dataset/Period1.csv')\n",
    "period2 = pd.read_csv('dataset/Period2.csv')\n",
    "test_data = pd.read_csv('dataset/TestData.csv')\n",
    "period1.info()"
   ]
  },
  {
   "cell_type": "code",
   "execution_count": 3,
   "metadata": {
    "scrolled": true
   },
   "outputs": [
    {
     "name": "stdout",
     "output_type": "stream",
     "text": [
      "period_all  node: 23237 edge: 253189\n",
      "period1  node: 17028 edge: 154836\n",
      "period2  node: 15565 edge: 98353\n"
     ]
    }
   ],
   "source": [
    "def find_unique_node(input_node_set1, input_node_set2):\n",
    "    node_set = pd.concat([input_node_set1, input_node_set2], ignore_index=True)\n",
    "    node_set_unique = node_set.loc[node_set.duplicated() == False]\n",
    "    node_set_unique = node_set_unique.reset_index(drop=True)\n",
    "    return node_set_unique\n",
    "\n",
    "\n",
    "period1_node_unique = find_unique_node(period1['source id'], period1['target id'])\n",
    "period2_node_unique = find_unique_node(period2['source id'], period2['target id'])\n",
    "period_all_node_unique = find_unique_node(period1_node_unique, period2_node_unique)\n",
    "\n",
    "# Format edge to newortkx type\n",
    "period1_edge = [(period1.loc[i, 'source id'], period1.loc[i, 'target id']) for i in range(len(period1))]\n",
    "period2_edge = [(period2.loc[i, 'source id'], period2.loc[i, 'target id']) for i in range(len(period2))]\n",
    "period_all_edge = period1_edge + period2_edge\n",
    "\n",
    "print('period_all ', 'node:', len(period_all_node_unique.values), 'edge:', len(period_all_edge))\n",
    "print('period1 ', 'node:', len(period1_node_unique.values), 'edge:', len(period1_edge))\n",
    "print('period2 ', 'node:', len(period2_node_unique.values), 'edge:', len(period2_edge))"
   ]
  },
  {
   "cell_type": "code",
   "execution_count": 4,
   "metadata": {},
   "outputs": [
    {
     "name": "stdout",
     "output_type": "stream",
     "text": [
      "node: 23237 edge: 154698\n"
     ]
    }
   ],
   "source": [
    "# Network generate (period1)\n",
    "network_period1 = nx.Graph()\n",
    "# Add nodes\n",
    "network_period1.add_nodes_from(period_all_node_unique.values)\n",
    "# Add edges\n",
    "network_period1.add_edges_from(period1_edge)\n",
    "\n",
    "print('node:', network_period1.number_of_nodes(), 'edge:', network_period1.number_of_edges())"
   ]
  },
  {
   "cell_type": "code",
   "execution_count": 5,
   "metadata": {},
   "outputs": [
    {
     "data": {
      "image/png": "[encoded data removed]",
      "text/plain": [
       "<matplotlib.figure.Figure at 0x176507309e8>"
      ]
     },
     "metadata": {},
     "output_type": "display_data"
    }
   ],
   "source": [
    "# network graph\n",
    "sub_graph = network_period1.subgraph(list(period1_node_unique[0:100]))   # 原圖太大取前幾個邊出來畫\n",
    "pos = nx.spring_layout(sub_graph)  # 圖的畫法\n",
    "nx.draw(sub_graph, pos=pos, node_size=40, vim=0.0, vmax=1.0, node_color=\"red\")"
   ]
  },
  {
   "cell_type": "code",
   "execution_count": 6,
   "metadata": {},
   "outputs": [
    {
     "name": "stdout",
     "output_type": "stream",
     "text": [
      "node: 23237 edge: 252854\n"
     ]
    }
   ],
   "source": [
    "# Network generate (period_all)\n",
    "network_all = nx.Graph()\n",
    "# Add nodes\n",
    "network_all.add_nodes_from(period_all_node_unique.values)\n",
    "# Add edges\n",
    "network_all.add_edges_from(period_all_edge)\n",
    "\n",
    "print('node:', network_all.number_of_nodes(), 'edge:', network_all.number_of_edges())"
   ]
  },
  {
   "cell_type": "code",
   "execution_count": 7,
   "metadata": {},
   "outputs": [
    {
     "name": "stdout",
     "output_type": "stream",
     "text": [
      "0    208165\n",
      "1    111208\n",
      "2    202140\n",
      "3    112113\n",
      "4    108010\n",
      "dtype: int64\n"
     ]
    }
   ],
   "source": [
    "# check test data is in network\n",
    "test_data_node_unique = find_unique_node(test_data['source id'], test_data['target id'])\n",
    "test_data_in_network = pd.concat([period_all_node_unique, test_data_node_unique], ignore_index=True)\n",
    "test_data_in_network = test_data_in_network.loc[test_data_in_network.duplicated() == True]\n",
    "test_data_in_network = test_data_in_network.reset_index(drop=True)\n",
    "print(test_data_in_network.head(5))\n",
    "\n",
    "# Add test data node in network\n",
    "network_all.add_nodes_from(test_data_node_unique.values)"
   ]
  },
  {
   "cell_type": "code",
   "execution_count": 59,
   "metadata": {},
   "outputs": [
    {
     "name": "stdout",
     "output_type": "stream",
     "text": [
      "5\n"
     ]
    }
   ],
   "source": [
    "# common neighbor score (neighbor = 1 best)\n",
    "def common_neighbor(input_node_set1, input_node_set2): \n",
    "    source_neighbor = [n for n in network_all.neighbors(input_node_set1)]\n",
    "    target_neighbor = [n for n in network_all.neighbors(input_node_set2)]\n",
    "    intersection = list(set(source_neighbor) & set(target_neighbor))\n",
    "    return len(intersection)\n",
    "\n",
    "neighbor_score_list = []\n",
    "for data_id, data in test_data.iterrows():\n",
    "    neighbor_score_list.append(common_neighbor(data['source id'], data['target id']))\n",
    "    \n",
    "print(neighbor_score_list[709])"
   ]
  },
  {
   "cell_type": "code",
   "execution_count": 60,
   "metadata": {},
   "outputs": [
    {
     "name": "stdout",
     "output_type": "stream",
     "text": [
      "0.07692307692307693\n"
     ]
    }
   ],
   "source": [
    "# Jaccard's cofficient\n",
    "def jaccard_cofficient(input_node_set1, input_node_set2):\n",
    "    cofficient = 0\n",
    "    source_neighbor = [n for n in network_all.neighbors(input_node_set1)]\n",
    "    target_neighbor = [n for n in network_all.neighbors(input_node_set2)]\n",
    "    union = list(set(source_neighbor) | set(target_neighbor))\n",
    "    intersection = list(set(source_neighbor) & set(target_neighbor))\n",
    "    if len(union) == 0:\n",
    "        return 0\n",
    "    else:\n",
    "        return (len(intersection) / len(union))\n",
    "        \n",
    "jaccard_score_list = []\n",
    "    \n",
    "for data_id, data in test_data.iterrows():\n",
    "    jaccard_score_list.append(jaccard_cofficient(data['source id'], data['target id']))\n",
    "        \n",
    "# Networkx jaccard_coefficient function\n",
    "# networkx_jaccard = []\n",
    "# fucking_list = []\n",
    "\n",
    "# for data_id, data in test_data.iterrows():\n",
    "#     fucking_list.append(((data['source id'],data['target id'])))\n",
    "    \n",
    "# preds = nx.jaccard_coefficient(network_all, fucking_list)\n",
    "# for u,v,p in preds:\n",
    "#     networkx_jaccard.append(p)\n",
    "\n",
    "# print(networkx_jaccard[709])\n",
    "print(jaccard_score_list[709])"
   ]
  },
  {
   "cell_type": "code",
   "execution_count": 63,
   "metadata": {
    "scrolled": true
   },
   "outputs": [
    {
     "name": "stdout",
     "output_type": "stream",
     "text": [
      "1.2312765119577431\n"
     ]
    }
   ],
   "source": [
    "#Adamic/Adar\n",
    "def adamic_adar(input_node_set1, input_node_set2):\n",
    "    adamic_score = 0\n",
    "    source_neighbor = [n for n in network_all.neighbors(input_node_set1)]\n",
    "    target_neighbor = [n for n in network_all.neighbors(input_node_set2)]\n",
    "    intersection = list(set(source_neighbor) & set(target_neighbor))\n",
    "    \n",
    "    if len(intersection) == 0:\n",
    "        return 0\n",
    "    else:\n",
    "        for v in intersection:\n",
    "            adamic_score +=  1 / math.log(len([nv for nv in network_all.neighbors(v)]))\n",
    "            \n",
    "        return adamic_score\n",
    "        \n",
    "adamic_score_list = []\n",
    "\n",
    "for data_id, data in test_data.iterrows():\n",
    "     adamic_score_list.append(adamic_adar(data['source id'], data['target id']))   \n",
    "\n",
    "# Networkx adamic_adar_index\n",
    "# networkx_adamic_adar_index = []\n",
    "# fucking_list = []\n",
    "\n",
    "# for data_id, data in test_data.iterrows():\n",
    "#     fucking_list.append(((data['source id'],data['target id'])))\n",
    "    \n",
    "# preds = nx.adamic_adar_index(network_all, fucking_list)\n",
    "# for u,v,p in preds:\n",
    "#     networkx_adamic_adar_index.append(p)\n",
    "\n",
    "# print(networkx_adamic_adar_index[709])\n",
    "print(adamic_score_list[709])"
   ]
  },
  {
   "cell_type": "code",
   "execution_count": 117,
   "metadata": {},
   "outputs": [
    {
     "data": {
      "text/html": [
       "<div>\n",
       "<style scoped>\n",
       "    .dataframe tbody tr th:only-of-type {\n",
       "        vertical-align: middle;\n",
       "    }\n",
       "\n",
       "    .dataframe tbody tr th {\n",
       "        vertical-align: top;\n",
       "    }\n",
       "\n",
       "    .dataframe thead th {\n",
       "        text-align: right;\n",
       "    }\n",
       "</style>\n",
       "<table border=\"1\" class=\"dataframe\">\n",
       "  <thead>\n",
       "    <tr style=\"text-align: right;\">\n",
       "      <th></th>\n",
       "      <th>edge</th>\n",
       "      <th>label</th>\n",
       "    </tr>\n",
       "  </thead>\n",
       "  <tbody>\n",
       "    <tr>\n",
       "      <th>0</th>\n",
       "      <td>(9135, 9604129)</td>\n",
       "      <td>1</td>\n",
       "    </tr>\n",
       "    <tr>\n",
       "      <th>1</th>\n",
       "      <td>(9412236, 9308100)</td>\n",
       "      <td>0</td>\n",
       "    </tr>\n",
       "    <tr>\n",
       "      <th>2</th>\n",
       "      <td>(112029, 9310038)</td>\n",
       "      <td>1</td>\n",
       "    </tr>\n",
       "    <tr>\n",
       "      <th>3</th>\n",
       "      <td>(104076, 7226)</td>\n",
       "      <td>1</td>\n",
       "    </tr>\n",
       "    <tr>\n",
       "      <th>4</th>\n",
       "      <td>(9077, 9908008)</td>\n",
       "      <td>1</td>\n",
       "    </tr>\n",
       "  </tbody>\n",
       "</table>\n",
       "</div>"
      ],
      "text/plain": [
       "                 edge  label\n",
       "0     (9135, 9604129)      1\n",
       "1  (9412236, 9308100)      0\n",
       "2   (112029, 9310038)      1\n",
       "3      (104076, 7226)      1\n",
       "4     (9077, 9908008)      1"
      ]
     },
     "execution_count": 117,
     "metadata": {},
     "output_type": "execute_result"
    }
   ],
   "source": [
    "# step 2\n",
    "# find period1 complement graph (使用補圖的所有edge 當training data才對，不過我電腦跑不動)\n",
    "# network_period1_complement = nx.complement(network_period1)\n",
    "# print(\"complement down\")\n",
    "# complement_edge = network_period1_complement.edges()\n",
    "\n",
    "# 直接使用period2裡面的當1，再從network_period1 亂數取幾個點，他們形成的補圖edge當0\n",
    "# period1 subgraph\n",
    "period1_node_shuffle = random.sample(list(period1_node_unique), 200)\n",
    "sub_graph = network_period1.subgraph(period1_node_shuffle)\n",
    "sub_graph_complement = nx.complement(sub_graph)\n",
    "# pos = nx.spring_layout(sub_graph)  # 圖的畫法\n",
    "# nx.draw(sub_graph_complement, pos=pos, node_size=40, vim=0.0, vmax=1.0, node_color=\"red\")\n",
    "\n",
    "# tag label\n",
    "train_label = []\n",
    "# 注意順序\n",
    "for edge in period2_edge:\n",
    "    train_label.append(1)\n",
    "for edge in list(sub_graph_complement.edges()):\n",
    "    train_label.append(0)   \n",
    "    \n",
    "train_data_edge = period2_edge + list(sub_graph_complement.edges())\n",
    "train_data = pd.DataFrame(data={'edge': train_data_edge, 'label': train_label})\n",
    "\n",
    "train_data = shuffle(train_data, random_state=42).reset_index(drop=True)\n",
    "train_data.head()"
   ]
  },
  {
   "cell_type": "code",
   "execution_count": 150,
   "metadata": {
    "collapsed": true
   },
   "outputs": [
    {
     "data": {
      "text/html": [
       "<div>\n",
       "<style scoped>\n",
       "    .dataframe tbody tr th:only-of-type {\n",
       "        vertical-align: middle;\n",
       "    }\n",
       "\n",
       "    .dataframe tbody tr th {\n",
       "        vertical-align: top;\n",
       "    }\n",
       "\n",
       "    .dataframe thead th {\n",
       "        text-align: right;\n",
       "    }\n",
       "</style>\n",
       "<table border=\"1\" class=\"dataframe\">\n",
       "  <thead>\n",
       "    <tr style=\"text-align: right;\">\n",
       "      <th></th>\n",
       "      <th>edge</th>\n",
       "      <th>label</th>\n",
       "      <th>feature</th>\n",
       "    </tr>\n",
       "  </thead>\n",
       "  <tbody>\n",
       "    <tr>\n",
       "      <th>0</th>\n",
       "      <td>(9135, 9604129)</td>\n",
       "      <td>1</td>\n",
       "      <td>[28, 0.1686746987951807, 6.619855734900147]</td>\n",
       "    </tr>\n",
       "    <tr>\n",
       "      <th>1</th>\n",
       "      <td>(9412236, 9308100)</td>\n",
       "      <td>0</td>\n",
       "      <td>[0, 0.0, 0]</td>\n",
       "    </tr>\n",
       "    <tr>\n",
       "      <th>2</th>\n",
       "      <td>(112029, 9310038)</td>\n",
       "      <td>1</td>\n",
       "      <td>[0, 0.0, 0]</td>\n",
       "    </tr>\n",
       "    <tr>\n",
       "      <th>3</th>\n",
       "      <td>(104076, 7226)</td>\n",
       "      <td>1</td>\n",
       "      <td>[5, 0.054945054945054944, 1.0327194627949408]</td>\n",
       "    </tr>\n",
       "    <tr>\n",
       "      <th>4</th>\n",
       "      <td>(9077, 9908008)</td>\n",
       "      <td>1</td>\n",
       "      <td>[1, 0.058823529411764705, 0.28599966750267436]</td>\n",
       "    </tr>\n",
       "    <tr>\n",
       "      <th>5</th>\n",
       "      <td>(9509143, 9312168)</td>\n",
       "      <td>0</td>\n",
       "      <td>[0, 0.0, 0]</td>\n",
       "    </tr>\n",
       "    <tr>\n",
       "      <th>6</th>\n",
       "      <td>(111165, 105097)</td>\n",
       "      <td>1</td>\n",
       "      <td>[2, 0.023255813953488372, 0.5021952329947058]</td>\n",
       "    </tr>\n",
       "    <tr>\n",
       "      <th>7</th>\n",
       "      <td>(3163, 9802109)</td>\n",
       "      <td>1</td>\n",
       "      <td>[8, 0.006488240064882401, 1.8942875237687427]</td>\n",
       "    </tr>\n",
       "    <tr>\n",
       "      <th>8</th>\n",
       "      <td>(10226, 4163)</td>\n",
       "      <td>1</td>\n",
       "      <td>[15, 0.5172413793103449, 5.402063871588472]</td>\n",
       "    </tr>\n",
       "    <tr>\n",
       "      <th>9</th>\n",
       "      <td>(110115, 5247)</td>\n",
       "      <td>1</td>\n",
       "      <td>[6, 0.043478260869565216, 1.423558256382131]</td>\n",
       "    </tr>\n",
       "    <tr>\n",
       "      <th>10</th>\n",
       "      <td>(105059, 8053)</td>\n",
       "      <td>1</td>\n",
       "      <td>[38, 0.2733812949640288, 9.032657882318711]</td>\n",
       "    </tr>\n",
       "    <tr>\n",
       "      <th>11</th>\n",
       "      <td>(9312206, 9507034)</td>\n",
       "      <td>0</td>\n",
       "      <td>[0, 0.0, 0]</td>\n",
       "    </tr>\n",
       "    <tr>\n",
       "      <th>12</th>\n",
       "      <td>(107199, 9909214)</td>\n",
       "      <td>1</td>\n",
       "      <td>[8, 0.11267605633802817, 1.8865381439466606]</td>\n",
       "    </tr>\n",
       "    <tr>\n",
       "      <th>13</th>\n",
       "      <td>(12075, 9808060)</td>\n",
       "      <td>1</td>\n",
       "      <td>[3, 0.04054054054054054, 0.7362168865995709]</td>\n",
       "    </tr>\n",
       "    <tr>\n",
       "      <th>14</th>\n",
       "      <td>(107137, 9605008)</td>\n",
       "      <td>1</td>\n",
       "      <td>[2, 0.046511627906976744, 0.5110904842844529]</td>\n",
       "    </tr>\n",
       "    <tr>\n",
       "      <th>15</th>\n",
       "      <td>(112188, 12234)</td>\n",
       "      <td>1</td>\n",
       "      <td>[15, 0.16304347826086957, 3.7242075739534344]</td>\n",
       "    </tr>\n",
       "    <tr>\n",
       "      <th>16</th>\n",
       "      <td>(101147, 9504010)</td>\n",
       "      <td>1</td>\n",
       "      <td>[8, 0.16326530612244897, 1.8407163746046888]</td>\n",
       "    </tr>\n",
       "    <tr>\n",
       "      <th>17</th>\n",
       "      <td>(1022, 9802096)</td>\n",
       "      <td>1</td>\n",
       "      <td>[2, 0.18181818181818182, 0.546828894855294]</td>\n",
       "    </tr>\n",
       "    <tr>\n",
       "      <th>18</th>\n",
       "      <td>(6113, 9511126)</td>\n",
       "      <td>1</td>\n",
       "      <td>[17, 0.14285714285714285, 3.795533814799296]</td>\n",
       "    </tr>\n",
       "    <tr>\n",
       "      <th>19</th>\n",
       "      <td>(111104, 9907126)</td>\n",
       "      <td>1</td>\n",
       "      <td>[10, 0.38461538461538464, 2.277914820441803]</td>\n",
       "    </tr>\n",
       "  </tbody>\n",
       "</table>\n",
       "</div>"
      ],
      "text/plain": [
       "                  edge  label                                         feature\n",
       "0      (9135, 9604129)      1     [28, 0.1686746987951807, 6.619855734900147]\n",
       "1   (9412236, 9308100)      0                                     [0, 0.0, 0]\n",
       "2    (112029, 9310038)      1                                     [0, 0.0, 0]\n",
       "3       (104076, 7226)      1   [5, 0.054945054945054944, 1.0327194627949408]\n",
       "4      (9077, 9908008)      1  [1, 0.058823529411764705, 0.28599966750267436]\n",
       "5   (9509143, 9312168)      0                                     [0, 0.0, 0]\n",
       "6     (111165, 105097)      1   [2, 0.023255813953488372, 0.5021952329947058]\n",
       "7      (3163, 9802109)      1   [8, 0.006488240064882401, 1.8942875237687427]\n",
       "8        (10226, 4163)      1     [15, 0.5172413793103449, 5.402063871588472]\n",
       "9       (110115, 5247)      1    [6, 0.043478260869565216, 1.423558256382131]\n",
       "10      (105059, 8053)      1     [38, 0.2733812949640288, 9.032657882318711]\n",
       "11  (9312206, 9507034)      0                                     [0, 0.0, 0]\n",
       "12   (107199, 9909214)      1    [8, 0.11267605633802817, 1.8865381439466606]\n",
       "13    (12075, 9808060)      1    [3, 0.04054054054054054, 0.7362168865995709]\n",
       "14   (107137, 9605008)      1   [2, 0.046511627906976744, 0.5110904842844529]\n",
       "15     (112188, 12234)      1   [15, 0.16304347826086957, 3.7242075739534344]\n",
       "16   (101147, 9504010)      1    [8, 0.16326530612244897, 1.8407163746046888]\n",
       "17     (1022, 9802096)      1     [2, 0.18181818181818182, 0.546828894855294]\n",
       "18     (6113, 9511126)      1    [17, 0.14285714285714285, 3.795533814799296]\n",
       "19   (111104, 9907126)      1    [10, 0.38461538461538464, 2.277914820441803]"
      ]
     },
     "execution_count": 150,
     "metadata": {},
     "output_type": "execute_result"
    }
   ],
   "source": [
    "# train data feature\n",
    "feature = []\n",
    "for edge_id, edge in enumerate(train_data['edge'].values):\n",
    "    cn = common_neighbor(edge[0], edge[1])\n",
    "    jaccard = jaccard_cofficient(edge[0],edge[1])\n",
    "    adamic = adamic_adar(edge[0], edge[1])\n",
    "    feature.append([cn, jaccard, adamic])\n",
    "\n",
    "train_data['feature'] = pd.Series(feature, index=train_data.index)\n",
    "train_data.head(20)"
   ]
  },
  {
   "cell_type": "code",
   "execution_count": 173,
   "metadata": {
    "scrolled": true
   },
   "outputs": [
    {
     "name": "stdout",
     "output_type": "stream",
     "text": [
      "(118231, 3)\n"
     ]
    },
    {
     "data": {
      "text/plain": [
       "SVC(C=1.0, cache_size=200, class_weight=None, coef0=0.0,\n",
       "  decision_function_shape='ovr', degree=3, gamma='auto', kernel='rbf',\n",
       "  max_iter=-1, probability=False, random_state=None, shrinking=True,\n",
       "  tol=0.001, verbose=False)"
      ]
     },
     "execution_count": 173,
     "metadata": {},
     "output_type": "execute_result"
    }
   ],
   "source": [
    "#SVM gogo\n",
    "import numpy as np\n",
    "print(np.shape(train_data['feature'].tolist()))\n",
    "clf = SVC()\n",
    "clf.fit(train_data['feature'].tolist(), train_data['label'].tolist())\n"
   ]
  },
  {
   "cell_type": "code",
   "execution_count": 187,
   "metadata": {},
   "outputs": [],
   "source": [
    "# predict test data\n",
    "test_feature = [[n, j, a] for n, j, a in zip(neighbor_score_list, jaccard_score_list, adamic_score_list)]\n",
    "\n",
    "predict = clf.predict(test_feature)"
   ]
  },
  {
   "cell_type": "code",
   "execution_count": 188,
   "metadata": {},
   "outputs": [],
   "source": [
    "# output predict\n",
    "row = [i for i in range(1, 10001)]\n",
    "label = predict\n",
    "\n",
    "# for score in jaccard_score_list:\n",
    "#     if score >= 1:\n",
    "#         label.append(1)\n",
    "#     else:\n",
    "#         label.append(0)\n",
    "\n",
    "data = {'target id': row, 'label': label}\n",
    "predict = pd.DataFrame(data=data, columns=['target id', 'label'])\n",
    "predict.to_csv(\"predict/svm1.csv\", index=False)\n"
   ]
  },
  {
   "cell_type": "code",
   "execution_count": null,
   "metadata": {},
   "outputs": [],
   "source": []
  }
 ],
 "metadata": {
  "kernelspec": {
   "display_name": "Python 3",
   "language": "python",
   "name": "python3"
  },
  "language_info": {
   "codemirror_mode": {
    "name": "ipython",
    "version": 3
   },
   "file_extension": ".py",
   "mimetype": "text/x-python",
   "name": "python",
   "nbconvert_exporter": "python",
   "pygments_lexer": "ipython3",
   "version": "3.5.5"
  }
 },
 "nbformat": 4,
 "nbformat_minor": 1
}
