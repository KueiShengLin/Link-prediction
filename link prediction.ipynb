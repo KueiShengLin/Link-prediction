{
 "cells": [
  {
   "cell_type": "code",
   "execution_count": 139,
   "metadata": {},
   "outputs": [
    {
     "name": "stdout",
     "output_type": "stream",
     "text": [
      "<class 'pandas.core.frame.DataFrame'>\n",
      "RangeIndex: 154836 entries, 0 to 154835\n",
      "Data columns (total 3 columns):\n",
      "year         154836 non-null int64\n",
      "source id    154836 non-null int64\n",
      "target id    154836 non-null int64\n",
      "dtypes: int64(3)\n",
      "memory usage: 3.5 MB\n"
     ]
    }
   ],
   "source": [
    "import networkx as nx\n",
    "import pandas as pd\n",
    "import matplotlib.pyplot as plt\n",
    "\n",
    "period1 = pd.read_csv('dataset/Period1.csv')\n",
    "period2 = pd.read_csv('dataset/Period2.csv')\n",
    "period1.info()"
   ]
  },
  {
   "cell_type": "code",
   "execution_count": 150,
   "metadata": {
    "scrolled": true
   },
   "outputs": [
    {
     "name": "stdout",
     "output_type": "stream",
     "text": [
      "node: 17028 edge: 154836\n"
     ]
    }
   ],
   "source": [
    "#Find unique node\n",
    "period1_node = pd.concat([period1['source id'], period1['target id']], ignore_index=True)\n",
    "period1_node_unique = period1_node.loc[period1_node.duplicated() == False]\n",
    "period1_node_unique = period1_node_unique.reset_index(drop=True)\n",
    "\n",
    "#format edge to newortkx type\n",
    "period1_edge = [(period1.loc[i,'source id'], period1.loc[i,'target id']) for i in range(len(period1))]\n",
    "print('node:', len(period1_node_unique.values),'edge:', len(period1_edge))"
   ]
  },
  {
   "cell_type": "code",
   "execution_count": 104,
   "metadata": {},
   "outputs": [
    {
     "name": "stdout",
     "output_type": "stream",
     "text": [
      "node: 17028 edge: 154698\n"
     ]
    }
   ],
   "source": [
    "#Network graph\n",
    "network_graph = nx.Graph()\n",
    "#Add nodes\n",
    "network_graph.add_nodes_from(period1_node_unique.values)\n",
    "#Add edges\n",
    "network_graph.add_edges_from(period1_edge)\n",
    "\n",
    "print('node:', network_graph.number_of_nodes(),'edge:', network_graph.number_of_edges())"
   ]
  },
  {
   "cell_type": "code",
   "execution_count": null,
   "metadata": {
    "collapsed": true
   },
   "outputs": [],
   "source": []
  }
 ],
 "metadata": {
  "kernelspec": {
   "display_name": "Python 3",
   "language": "python",
   "name": "python3"
  },
  "language_info": {
   "codemirror_mode": {
    "name": "ipython",
    "version": 3
   },
   "file_extension": ".py",
   "mimetype": "text/x-python",
   "name": "python",
   "nbconvert_exporter": "python",
   "pygments_lexer": "ipython3",
   "version": "3.6.3"
  }
 },
 "nbformat": 4,
 "nbformat_minor": 1
}
